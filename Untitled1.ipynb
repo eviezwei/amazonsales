{
  "nbformat": 4,
  "nbformat_minor": 0,
  "metadata": {
    "colab": {
      "provenance": [],
      "authorship_tag": "ABX9TyOD69N52Qx4JDJwLVVwfiad",
      "include_colab_link": true
    },
    "kernelspec": {
      "name": "python3",
      "display_name": "Python 3"
    },
    "language_info": {
      "name": "python"
    }
  },
  "cells": [
    {
      "cell_type": "markdown",
      "metadata": {
        "id": "view-in-github",
        "colab_type": "text"
      },
      "source": [
        "<a href=\"https://colab.research.google.com/github/eviezwei/amazonsales/blob/main/Untitled1.ipynb\" target=\"_parent\"><img src=\"https://colab.research.google.com/assets/colab-badge.svg\" alt=\"Open In Colab\"/></a>"
      ]
    },
    {
      "cell_type": "code",
      "execution_count": null,
      "metadata": {
        "application/vnd.databricks.v1+cell": {
          "cellMetadata": {
            "byteLimit": 2048000,
            "rowLimit": 10000
          },
          "inputWidgets": {},
          "nuid": "07268886-ea2d-4a9a-ba81-1fe44e98974f",
          "showTitle": false,
          "tableResultSettingsMap": {},
          "title": ""
        },
        "colab": {
          "base_uri": "https://localhost:8080/"
        },
        "id": "0IlaHndOFy95",
        "outputId": "48687040-09b0-4972-ab8d-32af67efd320"
      },
      "outputs": [
        {
          "output_type": "stream",
          "name": "stdout",
          "text": [
            "Requirement already satisfied: nltk in /usr/local/lib/python3.12/dist-packages (3.9.1)\n",
            "Requirement already satisfied: click in /usr/local/lib/python3.12/dist-packages (from nltk) (8.3.0)\n",
            "Requirement already satisfied: joblib in /usr/local/lib/python3.12/dist-packages (from nltk) (1.5.2)\n",
            "Requirement already satisfied: regex>=2021.8.3 in /usr/local/lib/python3.12/dist-packages (from nltk) (2024.11.6)\n",
            "Requirement already satisfied: tqdm in /usr/local/lib/python3.12/dist-packages (from nltk) (4.67.1)\n",
            "Requirement already satisfied: textblob in /usr/local/lib/python3.12/dist-packages (0.19.0)\n",
            "Requirement already satisfied: nltk>=3.9 in /usr/local/lib/python3.12/dist-packages (from textblob) (3.9.1)\n",
            "Requirement already satisfied: click in /usr/local/lib/python3.12/dist-packages (from nltk>=3.9->textblob) (8.3.0)\n",
            "Requirement already satisfied: joblib in /usr/local/lib/python3.12/dist-packages (from nltk>=3.9->textblob) (1.5.2)\n",
            "Requirement already satisfied: regex>=2021.8.3 in /usr/local/lib/python3.12/dist-packages (from nltk>=3.9->textblob) (2024.11.6)\n",
            "Requirement already satisfied: tqdm in /usr/local/lib/python3.12/dist-packages (from nltk>=3.9->textblob) (4.67.1)\n"
          ]
        }
      ],
      "source": [
        "import pandas as pd\n",
        "import numpy as np\n",
        "from collections import Counter\n",
        "import re\n",
        "import seaborn as sns\n",
        "import matplotlib.pyplot as plt\n",
        "\n",
        "%pip install nltk\n",
        "# %pip install textblob\n",
        "\n",
        "import nltk\n",
        "from nltk.corpus import stopwords\n",
        "# from textblob import TextBlob"
      ]
    },
    {
      "cell_type": "code",
      "source": [
        "from google.colab import drive\n",
        "drive.mount('/content/drive')"
      ],
      "metadata": {
        "colab": {
          "base_uri": "https://localhost:8080/"
        },
        "id": "YxybMqWAI_w9",
        "outputId": "cd02824b-0368-486d-88e6-b2865b4686a1"
      },
      "execution_count": null,
      "outputs": [
        {
          "output_type": "stream",
          "name": "stdout",
          "text": [
            "Mounted at /content/drive\n"
          ]
        }
      ]
    },
    {
      "cell_type": "code",
      "execution_count": null,
      "metadata": {
        "application/vnd.databricks.v1+cell": {
          "cellMetadata": {
            "byteLimit": 2048000,
            "rowLimit": 10000
          },
          "inputWidgets": {},
          "nuid": "10fbbc2f-b17f-4e66-af40-20100cc81b04",
          "showTitle": false,
          "tableResultSettingsMap": {},
          "title": ""
        },
        "id": "qDZ1Px6fFy98"
      },
      "outputs": [],
      "source": [
        "# -----------------------------\n",
        "# 1. Load & Inspect the Data\n",
        "# -----------------------------\n",
        "path = \"/content/drive/MyDrive/Colab Notebooks/01_portfolio/202510_amazon sales/amazon.csv\"\n",
        "df = pd.read_csv(path)"
      ]
    },
    {
      "cell_type": "code",
      "execution_count": null,
      "metadata": {
        "application/vnd.databricks.v1+cell": {
          "cellMetadata": {
            "byteLimit": 2048000,
            "rowLimit": 10000
          },
          "inputWidgets": {},
          "nuid": "8a28e8e0-e0b3-4826-9139-146921b77cd9",
          "showTitle": false,
          "tableResultSettingsMap": {},
          "title": ""
        },
        "colab": {
          "base_uri": "https://localhost:8080/"
        },
        "id": "3_s1PUZ9Fy99",
        "outputId": "2feae448-5b0a-4cc5-fdd1-538e3bfa6a36"
      },
      "outputs": [
        {
          "output_type": "stream",
          "name": "stdout",
          "text": [
            "\n",
            "Basic Info:\n",
            "<class 'pandas.core.frame.DataFrame'>\n",
            "RangeIndex: 1465 entries, 0 to 1464\n",
            "Data columns (total 16 columns):\n",
            " #   Column               Non-Null Count  Dtype \n",
            "---  ------               --------------  ----- \n",
            " 0   product_id           1465 non-null   object\n",
            " 1   product_name         1465 non-null   object\n",
            " 2   category             1465 non-null   object\n",
            " 3   discounted_price     1465 non-null   object\n",
            " 4   actual_price         1465 non-null   object\n",
            " 5   discount_percentage  1465 non-null   object\n",
            " 6   rating               1465 non-null   object\n",
            " 7   rating_count         1463 non-null   object\n",
            " 8   about_product        1465 non-null   object\n",
            " 9   user_id              1465 non-null   object\n",
            " 10  user_name            1465 non-null   object\n",
            " 11  review_id            1465 non-null   object\n",
            " 12  review_title         1465 non-null   object\n",
            " 13  review_content       1465 non-null   object\n",
            " 14  img_link             1465 non-null   object\n",
            " 15  product_link         1465 non-null   object\n",
            "dtypes: object(16)\n",
            "memory usage: 183.3+ KB\n",
            "None\n",
            "\n",
            "Missing Values:\n",
            "product_id             0\n",
            "product_name           0\n",
            "category               0\n",
            "discounted_price       0\n",
            "actual_price           0\n",
            "discount_percentage    0\n",
            "rating                 0\n",
            "rating_count           2\n",
            "about_product          0\n",
            "user_id                0\n",
            "user_name              0\n",
            "review_id              0\n",
            "review_title           0\n",
            "review_content         0\n",
            "img_link               0\n",
            "product_link           0\n",
            "dtype: int64\n"
          ]
        }
      ],
      "source": [
        "print(\"\\nBasic Info:\")\n",
        "print(df.info())\n",
        "print(\"\\nMissing Values:\")\n",
        "print(df.isna().sum())"
      ]
    },
    {
      "cell_type": "code",
      "execution_count": null,
      "metadata": {
        "application/vnd.databricks.v1+cell": {
          "cellMetadata": {
            "byteLimit": 2048000,
            "rowLimit": 10000
          },
          "inputWidgets": {},
          "nuid": "f47ece72-275b-4687-a855-e576d49dcfa9",
          "showTitle": false,
          "tableResultSettingsMap": {},
          "title": ""
        },
        "colab": {
          "base_uri": "https://localhost:8080/",
          "height": 521
        },
        "id": "Zs9rwK1cFy9-",
        "outputId": "1ca63c26-769b-4f2f-b85a-4bdf124dd6ac"
      },
      "outputs": [
        {
          "output_type": "display_data",
          "data": {
            "text/plain": [
              "   product_id                                       product_name  \\\n",
              "0  B07JW9H4J1  Wayona Nylon Braided USB to Lightning Fast Cha...   \n",
              "1  B098NS6PVG  Ambrane Unbreakable 60W / 3A Fast Charging 1.5...   \n",
              "2  B096MSW6CT  Sounce Fast Phone Charging Cable & Data Sync U...   \n",
              "3  B08HDJ86NZ  boAt Deuce USB 300 2 in 1 Type-C & Micro USB S...   \n",
              "4  B08CF3B7N1  Portronics Konnect L 1.2M Fast Charging 3A 8 P...   \n",
              "\n",
              "                                            category discounted_price  \\\n",
              "0  Computers&Accessories|Accessories&Peripherals|...             ₹399   \n",
              "1  Computers&Accessories|Accessories&Peripherals|...             ₹199   \n",
              "2  Computers&Accessories|Accessories&Peripherals|...             ₹199   \n",
              "3  Computers&Accessories|Accessories&Peripherals|...             ₹329   \n",
              "4  Computers&Accessories|Accessories&Peripherals|...             ₹154   \n",
              "\n",
              "  actual_price discount_percentage rating rating_count  \\\n",
              "0       ₹1,099                 64%    4.2       24,269   \n",
              "1         ₹349                 43%    4.0       43,994   \n",
              "2       ₹1,899                 90%    3.9        7,928   \n",
              "3         ₹699                 53%    4.2       94,363   \n",
              "4         ₹399                 61%    4.2       16,905   \n",
              "\n",
              "                                       about_product  \\\n",
              "0  High Compatibility : Compatible With iPhone 12...   \n",
              "1  Compatible with all Type C enabled devices, be...   \n",
              "2  【 Fast Charger& Data Sync】-With built-in safet...   \n",
              "3  The boAt Deuce USB 300 2 in 1 cable is compati...   \n",
              "4  [CHARGE & SYNC FUNCTION]- This cable comes wit...   \n",
              "\n",
              "                                             user_id  \\\n",
              "0  AG3D6O4STAQKAY2UVGEUV46KN35Q,AHMY5CWJMMK5BJRBB...   \n",
              "1  AECPFYFQVRUWC3KGNLJIOREFP5LQ,AGYYVPDD7YG7FYNBX...   \n",
              "2  AGU3BBQ2V2DDAMOAKGFAWDDQ6QHA,AESFLDV2PT363T2AQ...   \n",
              "3  AEWAZDZZJLQUYVOVGBEUKSLXHQ5A,AG5HTSFRRE6NL3M5S...   \n",
              "4  AE3Q6KSUK5P75D5HFYHCRAOLODSA,AFUGIFH5ZAFXRDSZH...   \n",
              "\n",
              "                                           user_name  \\\n",
              "0  Manav,Adarsh gupta,Sundeep,S.Sayeed Ahmed,jasp...   \n",
              "1  ArdKn,Nirbhay kumar,Sagar Viswanathan,Asp,Plac...   \n",
              "2  Kunal,Himanshu,viswanath,sai niharka,saqib mal...   \n",
              "3  Omkar dhale,JD,HEMALATHA,Ajwadh a.,amar singh ...   \n",
              "4  rahuls6099,Swasat Borah,Ajay Wadke,Pranali,RVK...   \n",
              "\n",
              "                                           review_id  \\\n",
              "0  R3HXWT0LRP0NMF,R2AJM3LFTLZHFO,R6AQJGUP6P86,R1K...   \n",
              "1  RGIQEG07R9HS2,R1SMWZQ86XIN8U,R2J3Y1WL29GWDE,RY...   \n",
              "2  R3J3EQQ9TZI5ZJ,R3E7WBGK7ID0KV,RWU79XKQ6I1QF,R2...   \n",
              "3  R3EEUZKKK9J36I,R3HJVYCLYOY554,REDECAZ7AMPQC,R1...   \n",
              "4  R1BP4L2HH9TFUP,R16PVJEXKV6QZS,R2UPDB81N66T4P,R...   \n",
              "\n",
              "                                        review_title  \\\n",
              "0  Satisfied,Charging is really fast,Value for mo...   \n",
              "1  A Good Braided Cable for Your Type C Device,Go...   \n",
              "2  Good speed for earlier versions,Good Product,W...   \n",
              "3  Good product,Good one,Nice,Really nice product...   \n",
              "4  As good as original,Decent,Good one for second...   \n",
              "\n",
              "                                      review_content  \\\n",
              "0  Looks durable Charging is fine tooNo complains...   \n",
              "1  I ordered this cable to connect my phone to An...   \n",
              "2  Not quite durable and sturdy,https://m.media-a...   \n",
              "3  Good product,long wire,Charges good,Nice,I bou...   \n",
              "4  Bought this instead of original apple, does th...   \n",
              "\n",
              "                                            img_link  \\\n",
              "0  https://m.media-amazon.com/images/W/WEBP_40237...   \n",
              "1  https://m.media-amazon.com/images/W/WEBP_40237...   \n",
              "2  https://m.media-amazon.com/images/W/WEBP_40237...   \n",
              "3  https://m.media-amazon.com/images/I/41V5FtEWPk...   \n",
              "4  https://m.media-amazon.com/images/W/WEBP_40237...   \n",
              "\n",
              "                                        product_link  \n",
              "0  https://www.amazon.in/Wayona-Braided-WN3LG1-Sy...  \n",
              "1  https://www.amazon.in/Ambrane-Unbreakable-Char...  \n",
              "2  https://www.amazon.in/Sounce-iPhone-Charging-C...  \n",
              "3  https://www.amazon.in/Deuce-300-Resistant-Tang...  \n",
              "4  https://www.amazon.in/Portronics-Konnect-POR-1...  "
            ],
            "text/html": [
              "\n",
              "  <div id=\"df-494658c8-e8af-4aea-8ffe-d9b9c74b73be\" class=\"colab-df-container\">\n",
              "    <div>\n",
              "<style scoped>\n",
              "    .dataframe tbody tr th:only-of-type {\n",
              "        vertical-align: middle;\n",
              "    }\n",
              "\n",
              "    .dataframe tbody tr th {\n",
              "        vertical-align: top;\n",
              "    }\n",
              "\n",
              "    .dataframe thead th {\n",
              "        text-align: right;\n",
              "    }\n",
              "</style>\n",
              "<table border=\"1\" class=\"dataframe\">\n",
              "  <thead>\n",
              "    <tr style=\"text-align: right;\">\n",
              "      <th></th>\n",
              "      <th>product_id</th>\n",
              "      <th>product_name</th>\n",
              "      <th>category</th>\n",
              "      <th>discounted_price</th>\n",
              "      <th>actual_price</th>\n",
              "      <th>discount_percentage</th>\n",
              "      <th>rating</th>\n",
              "      <th>rating_count</th>\n",
              "      <th>about_product</th>\n",
              "      <th>user_id</th>\n",
              "      <th>user_name</th>\n",
              "      <th>review_id</th>\n",
              "      <th>review_title</th>\n",
              "      <th>review_content</th>\n",
              "      <th>img_link</th>\n",
              "      <th>product_link</th>\n",
              "    </tr>\n",
              "  </thead>\n",
              "  <tbody>\n",
              "    <tr>\n",
              "      <th>0</th>\n",
              "      <td>B07JW9H4J1</td>\n",
              "      <td>Wayona Nylon Braided USB to Lightning Fast Cha...</td>\n",
              "      <td>Computers&amp;Accessories|Accessories&amp;Peripherals|...</td>\n",
              "      <td>₹399</td>\n",
              "      <td>₹1,099</td>\n",
              "      <td>64%</td>\n",
              "      <td>4.2</td>\n",
              "      <td>24,269</td>\n",
              "      <td>High Compatibility : Compatible With iPhone 12...</td>\n",
              "      <td>AG3D6O4STAQKAY2UVGEUV46KN35Q,AHMY5CWJMMK5BJRBB...</td>\n",
              "      <td>Manav,Adarsh gupta,Sundeep,S.Sayeed Ahmed,jasp...</td>\n",
              "      <td>R3HXWT0LRP0NMF,R2AJM3LFTLZHFO,R6AQJGUP6P86,R1K...</td>\n",
              "      <td>Satisfied,Charging is really fast,Value for mo...</td>\n",
              "      <td>Looks durable Charging is fine tooNo complains...</td>\n",
              "      <td>https://m.media-amazon.com/images/W/WEBP_40237...</td>\n",
              "      <td>https://www.amazon.in/Wayona-Braided-WN3LG1-Sy...</td>\n",
              "    </tr>\n",
              "    <tr>\n",
              "      <th>1</th>\n",
              "      <td>B098NS6PVG</td>\n",
              "      <td>Ambrane Unbreakable 60W / 3A Fast Charging 1.5...</td>\n",
              "      <td>Computers&amp;Accessories|Accessories&amp;Peripherals|...</td>\n",
              "      <td>₹199</td>\n",
              "      <td>₹349</td>\n",
              "      <td>43%</td>\n",
              "      <td>4.0</td>\n",
              "      <td>43,994</td>\n",
              "      <td>Compatible with all Type C enabled devices, be...</td>\n",
              "      <td>AECPFYFQVRUWC3KGNLJIOREFP5LQ,AGYYVPDD7YG7FYNBX...</td>\n",
              "      <td>ArdKn,Nirbhay kumar,Sagar Viswanathan,Asp,Plac...</td>\n",
              "      <td>RGIQEG07R9HS2,R1SMWZQ86XIN8U,R2J3Y1WL29GWDE,RY...</td>\n",
              "      <td>A Good Braided Cable for Your Type C Device,Go...</td>\n",
              "      <td>I ordered this cable to connect my phone to An...</td>\n",
              "      <td>https://m.media-amazon.com/images/W/WEBP_40237...</td>\n",
              "      <td>https://www.amazon.in/Ambrane-Unbreakable-Char...</td>\n",
              "    </tr>\n",
              "    <tr>\n",
              "      <th>2</th>\n",
              "      <td>B096MSW6CT</td>\n",
              "      <td>Sounce Fast Phone Charging Cable &amp; Data Sync U...</td>\n",
              "      <td>Computers&amp;Accessories|Accessories&amp;Peripherals|...</td>\n",
              "      <td>₹199</td>\n",
              "      <td>₹1,899</td>\n",
              "      <td>90%</td>\n",
              "      <td>3.9</td>\n",
              "      <td>7,928</td>\n",
              "      <td>【 Fast Charger&amp; Data Sync】-With built-in safet...</td>\n",
              "      <td>AGU3BBQ2V2DDAMOAKGFAWDDQ6QHA,AESFLDV2PT363T2AQ...</td>\n",
              "      <td>Kunal,Himanshu,viswanath,sai niharka,saqib mal...</td>\n",
              "      <td>R3J3EQQ9TZI5ZJ,R3E7WBGK7ID0KV,RWU79XKQ6I1QF,R2...</td>\n",
              "      <td>Good speed for earlier versions,Good Product,W...</td>\n",
              "      <td>Not quite durable and sturdy,https://m.media-a...</td>\n",
              "      <td>https://m.media-amazon.com/images/W/WEBP_40237...</td>\n",
              "      <td>https://www.amazon.in/Sounce-iPhone-Charging-C...</td>\n",
              "    </tr>\n",
              "    <tr>\n",
              "      <th>3</th>\n",
              "      <td>B08HDJ86NZ</td>\n",
              "      <td>boAt Deuce USB 300 2 in 1 Type-C &amp; Micro USB S...</td>\n",
              "      <td>Computers&amp;Accessories|Accessories&amp;Peripherals|...</td>\n",
              "      <td>₹329</td>\n",
              "      <td>₹699</td>\n",
              "      <td>53%</td>\n",
              "      <td>4.2</td>\n",
              "      <td>94,363</td>\n",
              "      <td>The boAt Deuce USB 300 2 in 1 cable is compati...</td>\n",
              "      <td>AEWAZDZZJLQUYVOVGBEUKSLXHQ5A,AG5HTSFRRE6NL3M5S...</td>\n",
              "      <td>Omkar dhale,JD,HEMALATHA,Ajwadh a.,amar singh ...</td>\n",
              "      <td>R3EEUZKKK9J36I,R3HJVYCLYOY554,REDECAZ7AMPQC,R1...</td>\n",
              "      <td>Good product,Good one,Nice,Really nice product...</td>\n",
              "      <td>Good product,long wire,Charges good,Nice,I bou...</td>\n",
              "      <td>https://m.media-amazon.com/images/I/41V5FtEWPk...</td>\n",
              "      <td>https://www.amazon.in/Deuce-300-Resistant-Tang...</td>\n",
              "    </tr>\n",
              "    <tr>\n",
              "      <th>4</th>\n",
              "      <td>B08CF3B7N1</td>\n",
              "      <td>Portronics Konnect L 1.2M Fast Charging 3A 8 P...</td>\n",
              "      <td>Computers&amp;Accessories|Accessories&amp;Peripherals|...</td>\n",
              "      <td>₹154</td>\n",
              "      <td>₹399</td>\n",
              "      <td>61%</td>\n",
              "      <td>4.2</td>\n",
              "      <td>16,905</td>\n",
              "      <td>[CHARGE &amp; SYNC FUNCTION]- This cable comes wit...</td>\n",
              "      <td>AE3Q6KSUK5P75D5HFYHCRAOLODSA,AFUGIFH5ZAFXRDSZH...</td>\n",
              "      <td>rahuls6099,Swasat Borah,Ajay Wadke,Pranali,RVK...</td>\n",
              "      <td>R1BP4L2HH9TFUP,R16PVJEXKV6QZS,R2UPDB81N66T4P,R...</td>\n",
              "      <td>As good as original,Decent,Good one for second...</td>\n",
              "      <td>Bought this instead of original apple, does th...</td>\n",
              "      <td>https://m.media-amazon.com/images/W/WEBP_40237...</td>\n",
              "      <td>https://www.amazon.in/Portronics-Konnect-POR-1...</td>\n",
              "    </tr>\n",
              "  </tbody>\n",
              "</table>\n",
              "</div>\n",
              "    <div class=\"colab-df-buttons\">\n",
              "\n",
              "  <div class=\"colab-df-container\">\n",
              "    <button class=\"colab-df-convert\" onclick=\"convertToInteractive('df-494658c8-e8af-4aea-8ffe-d9b9c74b73be')\"\n",
              "            title=\"Convert this dataframe to an interactive table.\"\n",
              "            style=\"display:none;\">\n",
              "\n",
              "  <svg xmlns=\"http://www.w3.org/2000/svg\" height=\"24px\" viewBox=\"0 -960 960 960\">\n",
              "    <path d=\"M120-120v-720h720v720H120Zm60-500h600v-160H180v160Zm220 220h160v-160H400v160Zm0 220h160v-160H400v160ZM180-400h160v-160H180v160Zm440 0h160v-160H620v160ZM180-180h160v-160H180v160Zm440 0h160v-160H620v160Z\"/>\n",
              "  </svg>\n",
              "    </button>\n",
              "\n",
              "  <style>\n",
              "    .colab-df-container {\n",
              "      display:flex;\n",
              "      gap: 12px;\n",
              "    }\n",
              "\n",
              "    .colab-df-convert {\n",
              "      background-color: #E8F0FE;\n",
              "      border: none;\n",
              "      border-radius: 50%;\n",
              "      cursor: pointer;\n",
              "      display: none;\n",
              "      fill: #1967D2;\n",
              "      height: 32px;\n",
              "      padding: 0 0 0 0;\n",
              "      width: 32px;\n",
              "    }\n",
              "\n",
              "    .colab-df-convert:hover {\n",
              "      background-color: #E2EBFA;\n",
              "      box-shadow: 0px 1px 2px rgba(60, 64, 67, 0.3), 0px 1px 3px 1px rgba(60, 64, 67, 0.15);\n",
              "      fill: #174EA6;\n",
              "    }\n",
              "\n",
              "    .colab-df-buttons div {\n",
              "      margin-bottom: 4px;\n",
              "    }\n",
              "\n",
              "    [theme=dark] .colab-df-convert {\n",
              "      background-color: #3B4455;\n",
              "      fill: #D2E3FC;\n",
              "    }\n",
              "\n",
              "    [theme=dark] .colab-df-convert:hover {\n",
              "      background-color: #434B5C;\n",
              "      box-shadow: 0px 1px 3px 1px rgba(0, 0, 0, 0.15);\n",
              "      filter: drop-shadow(0px 1px 2px rgba(0, 0, 0, 0.3));\n",
              "      fill: #FFFFFF;\n",
              "    }\n",
              "  </style>\n",
              "\n",
              "    <script>\n",
              "      const buttonEl =\n",
              "        document.querySelector('#df-494658c8-e8af-4aea-8ffe-d9b9c74b73be button.colab-df-convert');\n",
              "      buttonEl.style.display =\n",
              "        google.colab.kernel.accessAllowed ? 'block' : 'none';\n",
              "\n",
              "      async function convertToInteractive(key) {\n",
              "        const element = document.querySelector('#df-494658c8-e8af-4aea-8ffe-d9b9c74b73be');\n",
              "        const dataTable =\n",
              "          await google.colab.kernel.invokeFunction('convertToInteractive',\n",
              "                                                    [key], {});\n",
              "        if (!dataTable) return;\n",
              "\n",
              "        const docLinkHtml = 'Like what you see? Visit the ' +\n",
              "          '<a target=\"_blank\" href=https://colab.research.google.com/notebooks/data_table.ipynb>data table notebook</a>'\n",
              "          + ' to learn more about interactive tables.';\n",
              "        element.innerHTML = '';\n",
              "        dataTable['output_type'] = 'display_data';\n",
              "        await google.colab.output.renderOutput(dataTable, element);\n",
              "        const docLink = document.createElement('div');\n",
              "        docLink.innerHTML = docLinkHtml;\n",
              "        element.appendChild(docLink);\n",
              "      }\n",
              "    </script>\n",
              "  </div>\n",
              "\n",
              "\n",
              "    <div id=\"df-9599cf68-cfbb-4d20-b5dd-aebc9377436f\">\n",
              "      <button class=\"colab-df-quickchart\" onclick=\"quickchart('df-9599cf68-cfbb-4d20-b5dd-aebc9377436f')\"\n",
              "                title=\"Suggest charts\"\n",
              "                style=\"display:none;\">\n",
              "\n",
              "<svg xmlns=\"http://www.w3.org/2000/svg\" height=\"24px\"viewBox=\"0 0 24 24\"\n",
              "     width=\"24px\">\n",
              "    <g>\n",
              "        <path d=\"M19 3H5c-1.1 0-2 .9-2 2v14c0 1.1.9 2 2 2h14c1.1 0 2-.9 2-2V5c0-1.1-.9-2-2-2zM9 17H7v-7h2v7zm4 0h-2V7h2v10zm4 0h-2v-4h2v4z\"/>\n",
              "    </g>\n",
              "</svg>\n",
              "      </button>\n",
              "\n",
              "<style>\n",
              "  .colab-df-quickchart {\n",
              "      --bg-color: #E8F0FE;\n",
              "      --fill-color: #1967D2;\n",
              "      --hover-bg-color: #E2EBFA;\n",
              "      --hover-fill-color: #174EA6;\n",
              "      --disabled-fill-color: #AAA;\n",
              "      --disabled-bg-color: #DDD;\n",
              "  }\n",
              "\n",
              "  [theme=dark] .colab-df-quickchart {\n",
              "      --bg-color: #3B4455;\n",
              "      --fill-color: #D2E3FC;\n",
              "      --hover-bg-color: #434B5C;\n",
              "      --hover-fill-color: #FFFFFF;\n",
              "      --disabled-bg-color: #3B4455;\n",
              "      --disabled-fill-color: #666;\n",
              "  }\n",
              "\n",
              "  .colab-df-quickchart {\n",
              "    background-color: var(--bg-color);\n",
              "    border: none;\n",
              "    border-radius: 50%;\n",
              "    cursor: pointer;\n",
              "    display: none;\n",
              "    fill: var(--fill-color);\n",
              "    height: 32px;\n",
              "    padding: 0;\n",
              "    width: 32px;\n",
              "  }\n",
              "\n",
              "  .colab-df-quickchart:hover {\n",
              "    background-color: var(--hover-bg-color);\n",
              "    box-shadow: 0 1px 2px rgba(60, 64, 67, 0.3), 0 1px 3px 1px rgba(60, 64, 67, 0.15);\n",
              "    fill: var(--button-hover-fill-color);\n",
              "  }\n",
              "\n",
              "  .colab-df-quickchart-complete:disabled,\n",
              "  .colab-df-quickchart-complete:disabled:hover {\n",
              "    background-color: var(--disabled-bg-color);\n",
              "    fill: var(--disabled-fill-color);\n",
              "    box-shadow: none;\n",
              "  }\n",
              "\n",
              "  .colab-df-spinner {\n",
              "    border: 2px solid var(--fill-color);\n",
              "    border-color: transparent;\n",
              "    border-bottom-color: var(--fill-color);\n",
              "    animation:\n",
              "      spin 1s steps(1) infinite;\n",
              "  }\n",
              "\n",
              "  @keyframes spin {\n",
              "    0% {\n",
              "      border-color: transparent;\n",
              "      border-bottom-color: var(--fill-color);\n",
              "      border-left-color: var(--fill-color);\n",
              "    }\n",
              "    20% {\n",
              "      border-color: transparent;\n",
              "      border-left-color: var(--fill-color);\n",
              "      border-top-color: var(--fill-color);\n",
              "    }\n",
              "    30% {\n",
              "      border-color: transparent;\n",
              "      border-left-color: var(--fill-color);\n",
              "      border-top-color: var(--fill-color);\n",
              "      border-right-color: var(--fill-color);\n",
              "    }\n",
              "    40% {\n",
              "      border-color: transparent;\n",
              "      border-right-color: var(--fill-color);\n",
              "      border-top-color: var(--fill-color);\n",
              "    }\n",
              "    60% {\n",
              "      border-color: transparent;\n",
              "      border-right-color: var(--fill-color);\n",
              "    }\n",
              "    80% {\n",
              "      border-color: transparent;\n",
              "      border-right-color: var(--fill-color);\n",
              "      border-bottom-color: var(--fill-color);\n",
              "    }\n",
              "    90% {\n",
              "      border-color: transparent;\n",
              "      border-bottom-color: var(--fill-color);\n",
              "    }\n",
              "  }\n",
              "</style>\n",
              "\n",
              "      <script>\n",
              "        async function quickchart(key) {\n",
              "          const quickchartButtonEl =\n",
              "            document.querySelector('#' + key + ' button');\n",
              "          quickchartButtonEl.disabled = true;  // To prevent multiple clicks.\n",
              "          quickchartButtonEl.classList.add('colab-df-spinner');\n",
              "          try {\n",
              "            const charts = await google.colab.kernel.invokeFunction(\n",
              "                'suggestCharts', [key], {});\n",
              "          } catch (error) {\n",
              "            console.error('Error during call to suggestCharts:', error);\n",
              "          }\n",
              "          quickchartButtonEl.classList.remove('colab-df-spinner');\n",
              "          quickchartButtonEl.classList.add('colab-df-quickchart-complete');\n",
              "        }\n",
              "        (() => {\n",
              "          let quickchartButtonEl =\n",
              "            document.querySelector('#df-9599cf68-cfbb-4d20-b5dd-aebc9377436f button');\n",
              "          quickchartButtonEl.style.display =\n",
              "            google.colab.kernel.accessAllowed ? 'block' : 'none';\n",
              "        })();\n",
              "      </script>\n",
              "    </div>\n",
              "\n",
              "    </div>\n",
              "  </div>\n"
            ],
            "application/vnd.google.colaboratory.intrinsic+json": {
              "type": "dataframe",
              "summary": "{\n  \"name\": \"display(df\",\n  \"rows\": 5,\n  \"fields\": [\n    {\n      \"column\": \"product_id\",\n      \"properties\": {\n        \"dtype\": \"string\",\n        \"num_unique_values\": 5,\n        \"samples\": [\n          \"B098NS6PVG\",\n          \"B08CF3B7N1\",\n          \"B096MSW6CT\"\n        ],\n        \"semantic_type\": \"\",\n        \"description\": \"\"\n      }\n    },\n    {\n      \"column\": \"product_name\",\n      \"properties\": {\n        \"dtype\": \"string\",\n        \"num_unique_values\": 5,\n        \"samples\": [\n          \"Ambrane Unbreakable 60W / 3A Fast Charging 1.5m Braided Type C Cable for Smartphones, Tablets, Laptops & other Type C devices, PD Technology, 480Mbps Data Sync, Quick Charge 3.0 (RCT15A, Black)\",\n          \"Portronics Konnect L 1.2M Fast Charging 3A 8 Pin USB Cable with Charge & Sync Function for iPhone, iPad (Grey)\",\n          \"Sounce Fast Phone Charging Cable & Data Sync USB Cable Compatible for iPhone 13, 12,11, X, 8, 7, 6, 5, iPad Air, Pro, Mini & iOS Devices\"\n        ],\n        \"semantic_type\": \"\",\n        \"description\": \"\"\n      }\n    },\n    {\n      \"column\": \"category\",\n      \"properties\": {\n        \"dtype\": \"category\",\n        \"num_unique_values\": 1,\n        \"samples\": [\n          \"Computers&Accessories|Accessories&Peripherals|Cables&Accessories|Cables|USBCables\"\n        ],\n        \"semantic_type\": \"\",\n        \"description\": \"\"\n      }\n    },\n    {\n      \"column\": \"discounted_price\",\n      \"properties\": {\n        \"dtype\": \"string\",\n        \"num_unique_values\": 4,\n        \"samples\": [\n          \"\\u20b9199\"\n        ],\n        \"semantic_type\": \"\",\n        \"description\": \"\"\n      }\n    },\n    {\n      \"column\": \"actual_price\",\n      \"properties\": {\n        \"dtype\": \"string\",\n        \"num_unique_values\": 5,\n        \"samples\": [\n          \"\\u20b9349\"\n        ],\n        \"semantic_type\": \"\",\n        \"description\": \"\"\n      }\n    },\n    {\n      \"column\": \"discount_percentage\",\n      \"properties\": {\n        \"dtype\": \"string\",\n        \"num_unique_values\": 5,\n        \"samples\": [\n          \"43%\"\n        ],\n        \"semantic_type\": \"\",\n        \"description\": \"\"\n      }\n    },\n    {\n      \"column\": \"rating\",\n      \"properties\": {\n        \"dtype\": \"string\",\n        \"num_unique_values\": 3,\n        \"samples\": [\n          \"4.2\"\n        ],\n        \"semantic_type\": \"\",\n        \"description\": \"\"\n      }\n    },\n    {\n      \"column\": \"rating_count\",\n      \"properties\": {\n        \"dtype\": \"string\",\n        \"num_unique_values\": 5,\n        \"samples\": [\n          \"43,994\"\n        ],\n        \"semantic_type\": \"\",\n        \"description\": \"\"\n      }\n    },\n    {\n      \"column\": \"about_product\",\n      \"properties\": {\n        \"dtype\": \"string\",\n        \"num_unique_values\": 5,\n        \"samples\": [\n          \"Compatible with all Type C enabled devices, be it an android smartphone (Mi, Samsung, Oppo, Vivo, Realme, OnePlus, etc), tablet, laptop (Macbook, Chromebook, etc)|Supports Quick Charging (2.0/3.0)|Unbreakable \\u2013 Made of special braided outer with rugged interior bindings, it is ultra-durable cable that won\\u2019t be affected by daily rough usage|Ideal Length \\u2013 It has ideal length of 1.5 meters which is neither too short like your typical 1meter cable or too long like a 2meters cable|Supports maximum 3A fast charging and 480 Mbps data transfer speed|6 months manufacturer warranty from the date of purchase\"\n        ],\n        \"semantic_type\": \"\",\n        \"description\": \"\"\n      }\n    },\n    {\n      \"column\": \"user_id\",\n      \"properties\": {\n        \"dtype\": \"string\",\n        \"num_unique_values\": 5,\n        \"samples\": [\n          \"AECPFYFQVRUWC3KGNLJIOREFP5LQ,AGYYVPDD7YG7FYNBXNGXZJT525AQ,AHONIZU3ICIEHQIGQ6R2VFRSBXOQ,AFPHD2CRPDZMWMBL7WXRSVYWS5JA,AEZ346GX3HJ4O4XNRPHCNHXQURMQ,AEPSWFPNECKO34PUC7I56ITGXR6Q,AHWVEHR5DYLVFTO2KF3IZATFQSWQ,AH4QT33M55677I7ISQOAKEQWACYQ\"\n        ],\n        \"semantic_type\": \"\",\n        \"description\": \"\"\n      }\n    },\n    {\n      \"column\": \"user_name\",\n      \"properties\": {\n        \"dtype\": \"string\",\n        \"num_unique_values\": 5,\n        \"samples\": [\n          \"ArdKn,Nirbhay kumar,Sagar Viswanathan,Asp,Placeholder,BharanI,sonia,Niam\"\n        ],\n        \"semantic_type\": \"\",\n        \"description\": \"\"\n      }\n    },\n    {\n      \"column\": \"review_id\",\n      \"properties\": {\n        \"dtype\": \"string\",\n        \"num_unique_values\": 5,\n        \"samples\": [\n          \"RGIQEG07R9HS2,R1SMWZQ86XIN8U,R2J3Y1WL29GWDE,RYGGS0M09S3KY,R17KQRUTAN5DKS,R3AAQGS6HP2QUK,R1HDNOG6TO2CCA,R3PHKXYA5AFEOU\"\n        ],\n        \"semantic_type\": \"\",\n        \"description\": \"\"\n      }\n    },\n    {\n      \"column\": \"review_title\",\n      \"properties\": {\n        \"dtype\": \"string\",\n        \"num_unique_values\": 5,\n        \"samples\": [\n          \"A Good Braided Cable for Your Type C Device,Good quality product from ambrane,Super cable,As,Good quality,Good product,its good,Good quality for the price but one issue with my unit\"\n        ],\n        \"semantic_type\": \"\",\n        \"description\": \"\"\n      }\n    },\n    {\n      \"column\": \"review_content\",\n      \"properties\": {\n        \"dtype\": \"string\",\n        \"num_unique_values\": 5,\n        \"samples\": [\n          \"I ordered this cable to connect my phone to Android Auto of car. The cable is really strong and the connection ports are really well made. I already has a Micro USB cable from Ambrane and it's still in good shape. I connected my phone to the car using the cable and it got connected well and no issues. I also connected it to the charging port and yes it has Fast Charging support.,It quality is good at this price and the main thing is that i didn't ever thought that this cable will be so long it's good one and charging power is too good and also supports fast charging,Value for money, with extra length\\ud83d\\udc4d,Good, working fine,Product quality is good,Good,very good,Bought for my daughter's old phone.Brand new cable it was not charging, I already repacked and requested for replacement.I checked again, and there was some green colour paste/fungus inside the micro USB connector. I cleaned with an alcoholic and starts working again.Checked the ampere of charging speed got around 1400ma-1500ma - not bad, came with braided 1.5m long cable, pretty impressive for the price.Can't blame the manufacturer.But quality issues by the distributor, they might have stored in very humid place.\"\n        ],\n        \"semantic_type\": \"\",\n        \"description\": \"\"\n      }\n    },\n    {\n      \"column\": \"img_link\",\n      \"properties\": {\n        \"dtype\": \"string\",\n        \"num_unique_values\": 5,\n        \"samples\": [\n          \"https://m.media-amazon.com/images/W/WEBP_402378-T2/images/I/31zOsqQOAOL._SY445_SX342_QL70_FMwebp_.jpg\"\n        ],\n        \"semantic_type\": \"\",\n        \"description\": \"\"\n      }\n    },\n    {\n      \"column\": \"product_link\",\n      \"properties\": {\n        \"dtype\": \"string\",\n        \"num_unique_values\": 5,\n        \"samples\": [\n          \"https://www.amazon.in/Ambrane-Unbreakable-Charging-Braided-Cable/dp/B098NS6PVG/ref=sr_1_2?qid=1672909124&s=electronics&sr=1-2\"\n        ],\n        \"semantic_type\": \"\",\n        \"description\": \"\"\n      }\n    }\n  ]\n}"
            }
          },
          "metadata": {}
        }
      ],
      "source": [
        "display(df.head(5))"
      ]
    },
    {
      "cell_type": "code",
      "execution_count": null,
      "metadata": {
        "application/vnd.databricks.v1+cell": {
          "cellMetadata": {
            "byteLimit": 2048000,
            "rowLimit": 10000
          },
          "inputWidgets": {},
          "nuid": "3e18f274-5fec-4ea3-9dc9-9093deb294ea",
          "showTitle": false,
          "tableResultSettingsMap": {},
          "title": ""
        },
        "id": "Lp5eUC4GFy9-"
      },
      "outputs": [],
      "source": [
        "# -----------------------------\n",
        "# 2. Data Cleaning\n",
        "# -----------------------------\n",
        "\n",
        "# Drop duplicates\n",
        "df = df.drop_duplicates()"
      ]
    },
    {
      "cell_type": "code",
      "execution_count": null,
      "metadata": {
        "application/vnd.databricks.v1+cell": {
          "cellMetadata": {
            "byteLimit": 2048000,
            "rowLimit": 10000
          },
          "inputWidgets": {},
          "nuid": "b083bdae-6a22-42e4-87a5-7e39f25fae4c",
          "showTitle": false,
          "tableResultSettingsMap": {},
          "title": ""
        },
        "id": "JQdZ5Pp_Fy9_"
      },
      "outputs": [],
      "source": [
        "# Ensure numeric variables\n",
        "df['rating'] = pd.to_numeric(df['rating'], errors='coerce')\n",
        "df['rating_count'] = df['rating_count'].replace('[,]', '', regex=True).fillna(0).astype(int)"
      ]
    },
    {
      "cell_type": "code",
      "execution_count": null,
      "metadata": {
        "application/vnd.databricks.v1+cell": {
          "cellMetadata": {
            "byteLimit": 2048000,
            "rowLimit": 10000
          },
          "inputWidgets": {},
          "nuid": "a1b0d848-575d-496c-ba84-6479a986982e",
          "showTitle": false,
          "tableResultSettingsMap": {},
          "title": ""
        },
        "id": "Dq8HEednFy9_"
      },
      "outputs": [],
      "source": [
        "# Convert price to US Dollars and convert to numeric type\n",
        "df['discounted_price'] = df['discounted_price'].replace('[₹,]', '', regex=True).astype(float).astype(int)\n",
        "\n",
        "conversion_rate = 0.012\n",
        "df['discounted_price_usd'] = df['discounted_price'] * conversion_rate\n",
        "df['discounted_price_usd'] = df['discounted_price_usd'].round(2)"
      ]
    },
    {
      "cell_type": "code",
      "execution_count": null,
      "metadata": {
        "application/vnd.databricks.v1+cell": {
          "cellMetadata": {
            "byteLimit": 2048000,
            "rowLimit": 10000
          },
          "inputWidgets": {},
          "nuid": "b39e02ae-d976-4097-afd9-0ea25c2506ba",
          "showTitle": false,
          "tableResultSettingsMap": {},
          "title": ""
        },
        "id": "ttKMli91Fy-A"
      },
      "outputs": [],
      "source": [
        "df['actual_price'] = df['actual_price'].replace('[₹,]', '', regex=True).astype(float).astype(int)\n",
        "\n",
        "conversion_rate = 0.012\n",
        "df['actual_price_usd'] = df['actual_price'] * conversion_rate\n",
        "df['actual_price_usd'] = df['actual_price_usd'].round(2)"
      ]
    },
    {
      "cell_type": "code",
      "execution_count": null,
      "metadata": {
        "application/vnd.databricks.v1+cell": {
          "cellMetadata": {
            "byteLimit": 2048000,
            "rowLimit": 10000
          },
          "inputWidgets": {},
          "nuid": "8292bfe1-06a7-4696-b010-21bc40527591",
          "showTitle": false,
          "tableResultSettingsMap": {},
          "title": ""
        },
        "id": "e4dISjanFy-B"
      },
      "outputs": [],
      "source": [
        "df['discount_percentage_usd'] = 1- df['discounted_price_usd'] / df['actual_price_usd']\n",
        "df['discount_percentage_usd'] = df['discount_percentage_usd'].round(2)"
      ]
    },
    {
      "cell_type": "code",
      "execution_count": null,
      "metadata": {
        "application/vnd.databricks.v1+cell": {
          "cellMetadata": {
            "byteLimit": 2048000,
            "rowLimit": 10000
          },
          "inputWidgets": {},
          "nuid": "77602fae-2c26-44e8-aeef-cbb4a176bc45",
          "showTitle": false,
          "tableResultSettingsMap": {},
          "title": ""
        },
        "id": "DQAGYoOMFy-D"
      },
      "outputs": [],
      "source": [
        "# Seperate IDs in review_id and count IDs\n",
        "df['review_count'] = df['review_id'].apply(lambda x: len(str(x).split(',')) if pd.notna(x) else 0)"
      ]
    },
    {
      "cell_type": "code",
      "execution_count": null,
      "metadata": {
        "application/vnd.databricks.v1+cell": {
          "cellMetadata": {
            "byteLimit": 2048000,
            "rowLimit": 10000
          },
          "inputWidgets": {},
          "nuid": "c7ecad85-944a-4326-a001-922bb3b84e78",
          "showTitle": false,
          "tableResultSettingsMap": {},
          "title": ""
        },
        "id": "6KueUl1FFy-D"
      },
      "outputs": [],
      "source": [
        "# Split \"category\" to several columns\n",
        "\n",
        "split_columns = df['category'].str.split('|', expand=True)\n",
        "split_columns.columns = [f'category_{i+1}' for i in range(split_columns.shape[1])]\n",
        "\n",
        "df = df.join(split_columns)"
      ]
    },
    {
      "cell_type": "code",
      "execution_count": null,
      "metadata": {
        "application/vnd.databricks.v1+cell": {
          "cellMetadata": {
            "byteLimit": 2048000,
            "rowLimit": 10000
          },
          "inputWidgets": {},
          "nuid": "14f596a2-303c-4321-a963-a164d4315de0",
          "showTitle": false,
          "tableResultSettingsMap": {},
          "title": ""
        },
        "colab": {
          "base_uri": "https://localhost:8080/"
        },
        "id": "HzFuUbTgFy-D",
        "outputId": "7114de67-84df-4eb0-8d81-157d8954b08e"
      },
      "outputs": [
        {
          "output_type": "stream",
          "name": "stdout",
          "text": [
            "Number of unique values in category_1: 9\n",
            "Number of unique values in category_2: 29\n",
            "Number of unique values in category_3: 71\n",
            "Number of unique values in category_4: 136\n",
            "Number of unique values in category_5: 56\n"
          ]
        }
      ],
      "source": [
        "category_1_count = df['category_1'].nunique()\n",
        "print(\"Number of unique values in category_1:\", category_1_count)\n",
        "\n",
        "category_2_count = df['category_2'].nunique()\n",
        "print(\"Number of unique values in category_2:\", category_2_count)\n",
        "\n",
        "category_3_count = df['category_3'].nunique()\n",
        "print(\"Number of unique values in category_3:\", category_3_count)\n",
        "\n",
        "category_4_count = df['category_4'].nunique()\n",
        "print(\"Number of unique values in category_4:\", category_4_count)\n",
        "\n",
        "category_5_count = df['category_5'].nunique()\n",
        "print(\"Number of unique values in category_5:\", category_5_count)\n"
      ]
    },
    {
      "cell_type": "code",
      "execution_count": null,
      "metadata": {
        "application/vnd.databricks.v1+cell": {
          "cellMetadata": {
            "byteLimit": 2048000,
            "rowLimit": 10000
          },
          "inputWidgets": {},
          "nuid": "28bb34b8-4930-4d49-af0b-87b0e31ce0f5",
          "showTitle": false,
          "tableResultSettingsMap": {},
          "title": ""
        },
        "id": "RtnVxSsnFy-E",
        "outputId": "c190593c-119b-4cd5-8ed4-191aae26541f"
      },
      "outputs": [
        {
          "output_type": "display_data",
          "data": {
            "image/png": "[encoded data removed]",
            "text/plain": [
              "<Figure size 640x480 with 1 Axes>"
            ]
          },
          "metadata": {}
        }
      ],
      "source": [
        "# Ratings distribution\n",
        "sns.histplot(df['rating'], bins=5)\n",
        "plt.title(\"Ratings Distribution\")\n",
        "plt.show()"
      ]
    }
  ]
}